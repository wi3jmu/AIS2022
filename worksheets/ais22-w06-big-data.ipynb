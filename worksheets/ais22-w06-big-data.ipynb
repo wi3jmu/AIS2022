{
 "cells": [
  {
   "cell_type": "markdown",
   "id": "6baa6406",
   "metadata": {
    "cell_style": "center",
    "id": "TaLyJWgNMIXQ",
    "papermill": {
     "duration": 0.014845,
     "end_time": "2022-06-08T05:45:14.384906",
     "exception": false,
     "start_time": "2022-06-08T05:45:14.370061",
     "status": "completed"
    },
    "tags": []
   },
   "source": [
    "*Analytical Information Systems*\n",
    "\n",
    "# Worksheet 6 - Big Data and Streaming\n",
    "\n",
    "Matthias Griebel\n",
    "Lehrstuhl für Wirtschaftsinformatik und Business Analytics\n",
    "\n",
    "SS 2022\n",
    "\n",
    "***\n",
    "\n",
    "# Table of Contents\n",
    "\n",
    "* [1. MapReduce](#map_reduce)\n",
    "    * [1.1. R and MapReduce](#map_reduce_r)\n",
    "* [2. Stream Processing](#stream)\n",
    "    * [2.1. Basic Stream Operators](#basic_stream)\n",
    "    * [2.2. The challenge of stream processing for big data](#stream_challenge)\n",
    "* [3. Exercises](#exercises)\n",
    "    * [3.1. MapReduce - Sales analysis](#sales)\n",
    "    * [3.2. Exam Questions](#exam)    \n",
    "*** \n",
    "\n",
    "## 1. MapReduce<a id=\"map_reduce\"></a>\n",
    "\n",
    "__Recap__ from [wikipedia](https://en.wikipedia.org/wiki/MapReduce):\n",
    "\n",
    "[MapReduce](https://en.wikipedia.org/wiki/MapReduce) is a programming model and an associated implementation for processing and generating big data sets with a parallel, distributed algorithm on a cluster. \n",
    "\n",
    "Let's have a look at the word count example from the lecture again:\n",
    "\n",
    "<img src=\"https://www.todaysoftmag.com/images/articles/tsm33/large/a11.png\" style=\"width:50%\">\n",
    "\n",
    "**The map reduce steps:**\n",
    "1. __Input__\n",
    "1. __Splitting__: Prepare the Map() input\n",
    "1. __Mapping__: Run the user-provided Map() code. Each worker node applies the map function to the local data, and writes the output to a temporary storage.\n",
    "1. __Shuffling__: \"Shuffle\" the Map output to the Reduce processors. \n",
    "1. __Reduce__: Run the user-provided Reduce() code. The Reduce processors process each group of output data, per key, in parallel.\n",
    "1. __Final result__: Produce the final output – the MapReduce system collects and sorts all the Reduce output\n",
    "\n",
    "\n",
    "### 1.1. R and MapReduce<a id=\"map_reduce_r\"></a>\n",
    "\n",
    "**MapReduce Libraries**\n",
    "\n",
    "MapReduce libraries have been written in many programming languages, with different levels of optimization. \n",
    "- A popular open-source implementation that has support for distributed shuffles is part of Apache Hadoop.\n",
    "- [RHadoop](https://github.com/RevolutionAnalytics/RHadoop/wiki) is a collection of five R packages that allow users to manage and analyze data with Apache Hadoop. \n",
    "    - using RHadoop requires a Java and Hadoop installation, the Hadoop Distributed File System, etc.\n",
    "\n",
    "For simplicity reasons we will only examplify the MapReduce algorithm using basic R and `tidyverse` packages:\n",
    "\n",
    "**R MapReduce Word Count Implementation**\n",
    "\n",
    "__Defining the map function__\n",
    "The map function breaks the line into words and outputs a key/value pair for each word."
   ]
  },
  {
   "cell_type": "code",
   "execution_count": 1,
   "id": "56e57eae",
   "metadata": {
    "execution": {
     "iopub.execute_input": "2022-06-08T05:45:14.419723Z",
     "iopub.status.busy": "2022-06-08T05:45:14.417524Z",
     "iopub.status.idle": "2022-06-08T05:45:15.954927Z",
     "shell.execute_reply": "2022-06-08T05:45:15.953877Z"
    },
    "papermill": {
     "duration": 1.555114,
     "end_time": "2022-06-08T05:45:15.955259",
     "exception": false,
     "start_time": "2022-06-08T05:45:14.400145",
     "status": "completed"
    },
    "tags": []
   },
   "outputs": [
    {
     "name": "stderr",
     "output_type": "stream",
     "text": [
      "── \u001b[1mAttaching packages\u001b[22m ─────────────────────────────────────── tidyverse 1.3.0 ──\n",
      "\n",
      "\u001b[32m✔\u001b[39m \u001b[34mggplot2\u001b[39m 3.3.3     \u001b[32m✔\u001b[39m \u001b[34mpurrr  \u001b[39m 0.3.4\n",
      "\u001b[32m✔\u001b[39m \u001b[34mtibble \u001b[39m 3.1.1     \u001b[32m✔\u001b[39m \u001b[34mdplyr  \u001b[39m 1.0.5\n",
      "\u001b[32m✔\u001b[39m \u001b[34mtidyr  \u001b[39m 1.1.3     \u001b[32m✔\u001b[39m \u001b[34mstringr\u001b[39m 1.4.0\n",
      "\u001b[32m✔\u001b[39m \u001b[34mreadr  \u001b[39m 1.4.0     \u001b[32m✔\u001b[39m \u001b[34mforcats\u001b[39m 0.5.0\n",
      "\n",
      "── \u001b[1mConflicts\u001b[22m ────────────────────────────────────────── tidyverse_conflicts() ──\n",
      "\u001b[31m✖\u001b[39m \u001b[34mdplyr\u001b[39m::\u001b[32mfilter()\u001b[39m masks \u001b[34mstats\u001b[39m::filter()\n",
      "\u001b[31m✖\u001b[39m \u001b[34mdplyr\u001b[39m::\u001b[32mlag()\u001b[39m    masks \u001b[34mstats\u001b[39m::lag()\n",
      "\n"
     ]
    }
   ],
   "source": [
    "library(tidyverse)"
   ]
  },
  {
   "cell_type": "code",
   "execution_count": 2,
   "id": "7dba6c54",
   "metadata": {
    "execution": {
     "iopub.execute_input": "2022-06-08T05:45:16.022251Z",
     "iopub.status.busy": "2022-06-08T05:45:15.989243Z",
     "iopub.status.idle": "2022-06-08T05:45:16.034940Z",
     "shell.execute_reply": "2022-06-08T05:45:16.033418Z"
    },
    "papermill": {
     "duration": 0.064806,
     "end_time": "2022-06-08T05:45:16.035116",
     "exception": false,
     "start_time": "2022-06-08T05:45:15.970310",
     "status": "completed"
    },
    "tags": []
   },
   "outputs": [],
   "source": [
    "count_words <- function(line){\n",
    "    line %>%\n",
    "            str_split(\" \",simplify=FALSE) %>%\n",
    "            unlist() %>%\n",
    "            tibble(key=., value=1)\n",
    "}"
   ]
  },
  {
   "cell_type": "markdown",
   "id": "a934eed7",
   "metadata": {
    "papermill": {
     "duration": 0.01587,
     "end_time": "2022-06-08T05:45:16.065869",
     "exception": false,
     "start_time": "2022-06-08T05:45:16.049999",
     "status": "completed"
    },
    "tags": []
   },
   "source": [
    "__Defining the reduce function__\n",
    "\n",
    "In the word count example, the Reduce function sums the word counts and generates a single output of the word and the final sum."
   ]
  },
  {
   "cell_type": "code",
   "execution_count": 3,
   "id": "8b9820b4",
   "metadata": {
    "execution": {
     "iopub.execute_input": "2022-06-08T05:45:16.101871Z",
     "iopub.status.busy": "2022-06-08T05:45:16.099777Z",
     "iopub.status.idle": "2022-06-08T05:45:16.114923Z",
     "shell.execute_reply": "2022-06-08T05:45:16.113504Z"
    },
    "papermill": {
     "duration": 0.034127,
     "end_time": "2022-06-08T05:45:16.115182",
     "exception": false,
     "start_time": "2022-06-08T05:45:16.081055",
     "status": "completed"
    },
    "tags": []
   },
   "outputs": [],
   "source": [
    "reduce_count <- function(df){\n",
    "    df %>%\n",
    "        summarise(key=key[1],\n",
    "                  count=sum(value))\n",
    "}"
   ]
  },
  {
   "cell_type": "markdown",
   "id": "4e53c850",
   "metadata": {
    "papermill": {
     "duration": 0.014701,
     "end_time": "2022-06-08T05:45:16.144718",
     "exception": false,
     "start_time": "2022-06-08T05:45:16.130017",
     "status": "completed"
    },
    "tags": []
   },
   "source": [
    "__Going through the MapReduce steps__\n",
    "\n",
    "__1. Input__"
   ]
  },
  {
   "cell_type": "code",
   "execution_count": 4,
   "id": "172ba70d",
   "metadata": {
    "execution": {
     "iopub.execute_input": "2022-06-08T05:45:16.180074Z",
     "iopub.status.busy": "2022-06-08T05:45:16.177714Z",
     "iopub.status.idle": "2022-06-08T05:45:16.200395Z",
     "shell.execute_reply": "2022-06-08T05:45:16.198971Z"
    },
    "papermill": {
     "duration": 0.041496,
     "end_time": "2022-06-08T05:45:16.200568",
     "exception": false,
     "start_time": "2022-06-08T05:45:16.159072",
     "status": "completed"
    },
    "tags": []
   },
   "outputs": [
    {
     "data": {
      "text/html": [
       "'Deer Bear River\\nCar Car River\\nDeer Car Bear'"
      ],
      "text/latex": [
       "'Deer Bear River\\textbackslash{}nCar Car River\\textbackslash{}nDeer Car Bear'"
      ],
      "text/markdown": [
       "'Deer Bear River\\nCar Car River\\nDeer Car Bear'"
      ],
      "text/plain": [
       "[1] \"Deer Bear River\\nCar Car River\\nDeer Car Bear\""
      ]
     },
     "metadata": {},
     "output_type": "display_data"
    }
   ],
   "source": [
    "Input =  \"Deer Bear River\\nCar Car River\\nDeer Car Bear\"\n",
    "Input"
   ]
  },
  {
   "cell_type": "markdown",
   "id": "60a2eeb6",
   "metadata": {
    "papermill": {
     "duration": 0.014836,
     "end_time": "2022-06-08T05:45:16.230556",
     "exception": false,
     "start_time": "2022-06-08T05:45:16.215720",
     "status": "completed"
    },
    "tags": []
   },
   "source": [
    "__2. Splitting__\n",
    "\n",
    "We will split the input by line ('\\n' indicates a new line)"
   ]
  },
  {
   "cell_type": "code",
   "execution_count": 5,
   "id": "e1c7195c",
   "metadata": {
    "execution": {
     "iopub.execute_input": "2022-06-08T05:45:16.266985Z",
     "iopub.status.busy": "2022-06-08T05:45:16.265250Z",
     "iopub.status.idle": "2022-06-08T05:45:16.308178Z",
     "shell.execute_reply": "2022-06-08T05:45:16.306539Z"
    },
    "papermill": {
     "duration": 0.062888,
     "end_time": "2022-06-08T05:45:16.308349",
     "exception": false,
     "start_time": "2022-06-08T05:45:16.245461",
     "status": "completed"
    },
    "tags": []
   },
   "outputs": [
    {
     "data": {
      "text/html": [
       "<style>\n",
       ".list-inline {list-style: none; margin:0; padding: 0}\n",
       ".list-inline>li {display: inline-block}\n",
       ".list-inline>li:not(:last-child)::after {content: \"\\00b7\"; padding: 0 .5ex}\n",
       "</style>\n",
       "<ol class=list-inline><li>'Deer Bear River'</li><li>'Car Car River'</li><li>'Deer Car Bear'</li></ol>\n"
      ],
      "text/latex": [
       "\\begin{enumerate*}\n",
       "\\item 'Deer Bear River'\n",
       "\\item 'Car Car River'\n",
       "\\item 'Deer Car Bear'\n",
       "\\end{enumerate*}\n"
      ],
      "text/markdown": [
       "1. 'Deer Bear River'\n",
       "2. 'Car Car River'\n",
       "3. 'Deer Car Bear'\n",
       "\n",
       "\n"
      ],
      "text/plain": [
       "[1] \"Deer Bear River\" \"Car Car River\"   \"Deer Car Bear\"  "
      ]
     },
     "metadata": {},
     "output_type": "display_data"
    }
   ],
   "source": [
    "Input %>%\n",
    "    str_split(\"\\n\",simplify=FALSE) %>% unlist"
   ]
  },
  {
   "cell_type": "markdown",
   "id": "c27c2e60",
   "metadata": {
    "papermill": {
     "duration": 0.015741,
     "end_time": "2022-06-08T05:45:16.340364",
     "exception": false,
     "start_time": "2022-06-08T05:45:16.324623",
     "status": "completed"
    },
    "tags": []
   },
   "source": [
    "**3. Mapping**"
   ]
  },
  {
   "cell_type": "code",
   "execution_count": 6,
   "id": "67271d3c",
   "metadata": {
    "execution": {
     "iopub.execute_input": "2022-06-08T05:45:16.378225Z",
     "iopub.status.busy": "2022-06-08T05:45:16.376564Z",
     "iopub.status.idle": "2022-06-08T05:45:16.482162Z",
     "shell.execute_reply": "2022-06-08T05:45:16.473370Z"
    },
    "papermill": {
     "duration": 0.126274,
     "end_time": "2022-06-08T05:45:16.482342",
     "exception": false,
     "start_time": "2022-06-08T05:45:16.356068",
     "status": "completed"
    },
    "tags": []
   },
   "outputs": [
    {
     "data": {
      "text/html": [
       "<ol>\n",
       "\t<li><table class=\"dataframe\">\n",
       "<caption>A tibble: 3 × 2</caption>\n",
       "<thead>\n",
       "\t<tr><th scope=col>key</th><th scope=col>value</th></tr>\n",
       "\t<tr><th scope=col>&lt;chr&gt;</th><th scope=col>&lt;dbl&gt;</th></tr>\n",
       "</thead>\n",
       "<tbody>\n",
       "\t<tr><td>Deer </td><td>1</td></tr>\n",
       "\t<tr><td>Bear </td><td>1</td></tr>\n",
       "\t<tr><td>River</td><td>1</td></tr>\n",
       "</tbody>\n",
       "</table>\n",
       "</li>\n",
       "\t<li><table class=\"dataframe\">\n",
       "<caption>A tibble: 3 × 2</caption>\n",
       "<thead>\n",
       "\t<tr><th scope=col>key</th><th scope=col>value</th></tr>\n",
       "\t<tr><th scope=col>&lt;chr&gt;</th><th scope=col>&lt;dbl&gt;</th></tr>\n",
       "</thead>\n",
       "<tbody>\n",
       "\t<tr><td>Car  </td><td>1</td></tr>\n",
       "\t<tr><td>Car  </td><td>1</td></tr>\n",
       "\t<tr><td>River</td><td>1</td></tr>\n",
       "</tbody>\n",
       "</table>\n",
       "</li>\n",
       "\t<li><table class=\"dataframe\">\n",
       "<caption>A tibble: 3 × 2</caption>\n",
       "<thead>\n",
       "\t<tr><th scope=col>key</th><th scope=col>value</th></tr>\n",
       "\t<tr><th scope=col>&lt;chr&gt;</th><th scope=col>&lt;dbl&gt;</th></tr>\n",
       "</thead>\n",
       "<tbody>\n",
       "\t<tr><td>Deer</td><td>1</td></tr>\n",
       "\t<tr><td>Car </td><td>1</td></tr>\n",
       "\t<tr><td>Bear</td><td>1</td></tr>\n",
       "</tbody>\n",
       "</table>\n",
       "</li>\n",
       "</ol>\n"
      ],
      "text/latex": [
       "\\begin{enumerate}\n",
       "\\item A tibble: 3 × 2\n",
       "\\begin{tabular}{ll}\n",
       " key & value\\\\\n",
       " <chr> & <dbl>\\\\\n",
       "\\hline\n",
       "\t Deer  & 1\\\\\n",
       "\t Bear  & 1\\\\\n",
       "\t River & 1\\\\\n",
       "\\end{tabular}\n",
       "\n",
       "\\item A tibble: 3 × 2\n",
       "\\begin{tabular}{ll}\n",
       " key & value\\\\\n",
       " <chr> & <dbl>\\\\\n",
       "\\hline\n",
       "\t Car   & 1\\\\\n",
       "\t Car   & 1\\\\\n",
       "\t River & 1\\\\\n",
       "\\end{tabular}\n",
       "\n",
       "\\item A tibble: 3 × 2\n",
       "\\begin{tabular}{ll}\n",
       " key & value\\\\\n",
       " <chr> & <dbl>\\\\\n",
       "\\hline\n",
       "\t Deer & 1\\\\\n",
       "\t Car  & 1\\\\\n",
       "\t Bear & 1\\\\\n",
       "\\end{tabular}\n",
       "\n",
       "\\end{enumerate}\n"
      ],
      "text/markdown": [
       "1. \n",
       "A tibble: 3 × 2\n",
       "\n",
       "| key &lt;chr&gt; | value &lt;dbl&gt; |\n",
       "|---|---|\n",
       "| Deer  | 1 |\n",
       "| Bear  | 1 |\n",
       "| River | 1 |\n",
       "\n",
       "\n",
       "2. \n",
       "A tibble: 3 × 2\n",
       "\n",
       "| key &lt;chr&gt; | value &lt;dbl&gt; |\n",
       "|---|---|\n",
       "| Car   | 1 |\n",
       "| Car   | 1 |\n",
       "| River | 1 |\n",
       "\n",
       "\n",
       "3. \n",
       "A tibble: 3 × 2\n",
       "\n",
       "| key &lt;chr&gt; | value &lt;dbl&gt; |\n",
       "|---|---|\n",
       "| Deer | 1 |\n",
       "| Car  | 1 |\n",
       "| Bear | 1 |\n",
       "\n",
       "\n",
       "\n",
       "\n"
      ],
      "text/plain": [
       "[[1]]\n",
       "\u001b[90m# A tibble: 3 x 2\u001b[39m\n",
       "  key   value\n",
       "  \u001b[3m\u001b[90m<chr>\u001b[39m\u001b[23m \u001b[3m\u001b[90m<dbl>\u001b[39m\u001b[23m\n",
       "\u001b[90m1\u001b[39m Deer      1\n",
       "\u001b[90m2\u001b[39m Bear      1\n",
       "\u001b[90m3\u001b[39m River     1\n",
       "\n",
       "[[2]]\n",
       "\u001b[90m# A tibble: 3 x 2\u001b[39m\n",
       "  key   value\n",
       "  \u001b[3m\u001b[90m<chr>\u001b[39m\u001b[23m \u001b[3m\u001b[90m<dbl>\u001b[39m\u001b[23m\n",
       "\u001b[90m1\u001b[39m Car       1\n",
       "\u001b[90m2\u001b[39m Car       1\n",
       "\u001b[90m3\u001b[39m River     1\n",
       "\n",
       "[[3]]\n",
       "\u001b[90m# A tibble: 3 x 2\u001b[39m\n",
       "  key   value\n",
       "  \u001b[3m\u001b[90m<chr>\u001b[39m\u001b[23m \u001b[3m\u001b[90m<dbl>\u001b[39m\u001b[23m\n",
       "\u001b[90m1\u001b[39m Deer      1\n",
       "\u001b[90m2\u001b[39m Car       1\n",
       "\u001b[90m3\u001b[39m Bear      1\n"
      ]
     },
     "metadata": {},
     "output_type": "display_data"
    }
   ],
   "source": [
    "Input %>%\n",
    "    str_split(\"\\n\",simplify=FALSE) %>% unlist %>%\n",
    "    map(count_words)"
   ]
  },
  {
   "cell_type": "markdown",
   "id": "76298fbb",
   "metadata": {
    "papermill": {
     "duration": 0.016931,
     "end_time": "2022-06-08T05:45:16.516359",
     "exception": false,
     "start_time": "2022-06-08T05:45:16.499428",
     "status": "completed"
    },
    "tags": []
   },
   "source": [
    "**4. Shuffling**"
   ]
  },
  {
   "cell_type": "code",
   "execution_count": 7,
   "id": "4fdd1193",
   "metadata": {
    "execution": {
     "iopub.execute_input": "2022-06-08T05:45:16.556332Z",
     "iopub.status.busy": "2022-06-08T05:45:16.554942Z",
     "iopub.status.idle": "2022-06-08T05:45:16.634187Z",
     "shell.execute_reply": "2022-06-08T05:45:16.632786Z"
    },
    "papermill": {
     "duration": 0.099901,
     "end_time": "2022-06-08T05:45:16.634337",
     "exception": false,
     "start_time": "2022-06-08T05:45:16.534436",
     "status": "completed"
    },
    "tags": []
   },
   "outputs": [
    {
     "data": {
      "text/html": [
       "<ol>\n",
       "\t<li><table class=\"dataframe\">\n",
       "<caption>A tibble: 2 × 2</caption>\n",
       "<thead>\n",
       "\t<tr><th scope=col>key</th><th scope=col>value</th></tr>\n",
       "\t<tr><th scope=col>&lt;chr&gt;</th><th scope=col>&lt;dbl&gt;</th></tr>\n",
       "</thead>\n",
       "<tbody>\n",
       "\t<tr><td>Bear</td><td>1</td></tr>\n",
       "\t<tr><td>Bear</td><td>1</td></tr>\n",
       "</tbody>\n",
       "</table>\n",
       "</li>\n",
       "\t<li><table class=\"dataframe\">\n",
       "<caption>A tibble: 3 × 2</caption>\n",
       "<thead>\n",
       "\t<tr><th scope=col>key</th><th scope=col>value</th></tr>\n",
       "\t<tr><th scope=col>&lt;chr&gt;</th><th scope=col>&lt;dbl&gt;</th></tr>\n",
       "</thead>\n",
       "<tbody>\n",
       "\t<tr><td>Car</td><td>1</td></tr>\n",
       "\t<tr><td>Car</td><td>1</td></tr>\n",
       "\t<tr><td>Car</td><td>1</td></tr>\n",
       "</tbody>\n",
       "</table>\n",
       "</li>\n",
       "\t<li><table class=\"dataframe\">\n",
       "<caption>A tibble: 2 × 2</caption>\n",
       "<thead>\n",
       "\t<tr><th scope=col>key</th><th scope=col>value</th></tr>\n",
       "\t<tr><th scope=col>&lt;chr&gt;</th><th scope=col>&lt;dbl&gt;</th></tr>\n",
       "</thead>\n",
       "<tbody>\n",
       "\t<tr><td>Deer</td><td>1</td></tr>\n",
       "\t<tr><td>Deer</td><td>1</td></tr>\n",
       "</tbody>\n",
       "</table>\n",
       "</li>\n",
       "\t<li><table class=\"dataframe\">\n",
       "<caption>A tibble: 2 × 2</caption>\n",
       "<thead>\n",
       "\t<tr><th scope=col>key</th><th scope=col>value</th></tr>\n",
       "\t<tr><th scope=col>&lt;chr&gt;</th><th scope=col>&lt;dbl&gt;</th></tr>\n",
       "</thead>\n",
       "<tbody>\n",
       "\t<tr><td>River</td><td>1</td></tr>\n",
       "\t<tr><td>River</td><td>1</td></tr>\n",
       "</tbody>\n",
       "</table>\n",
       "</li>\n",
       "</ol>\n"
      ],
      "text/latex": [
       "\\begin{enumerate}\n",
       "\\item A tibble: 2 × 2\n",
       "\\begin{tabular}{ll}\n",
       " key & value\\\\\n",
       " <chr> & <dbl>\\\\\n",
       "\\hline\n",
       "\t Bear & 1\\\\\n",
       "\t Bear & 1\\\\\n",
       "\\end{tabular}\n",
       "\n",
       "\\item A tibble: 3 × 2\n",
       "\\begin{tabular}{ll}\n",
       " key & value\\\\\n",
       " <chr> & <dbl>\\\\\n",
       "\\hline\n",
       "\t Car & 1\\\\\n",
       "\t Car & 1\\\\\n",
       "\t Car & 1\\\\\n",
       "\\end{tabular}\n",
       "\n",
       "\\item A tibble: 2 × 2\n",
       "\\begin{tabular}{ll}\n",
       " key & value\\\\\n",
       " <chr> & <dbl>\\\\\n",
       "\\hline\n",
       "\t Deer & 1\\\\\n",
       "\t Deer & 1\\\\\n",
       "\\end{tabular}\n",
       "\n",
       "\\item A tibble: 2 × 2\n",
       "\\begin{tabular}{ll}\n",
       " key & value\\\\\n",
       " <chr> & <dbl>\\\\\n",
       "\\hline\n",
       "\t River & 1\\\\\n",
       "\t River & 1\\\\\n",
       "\\end{tabular}\n",
       "\n",
       "\\end{enumerate}\n"
      ],
      "text/markdown": [
       "1. \n",
       "A tibble: 2 × 2\n",
       "\n",
       "| key &lt;chr&gt; | value &lt;dbl&gt; |\n",
       "|---|---|\n",
       "| Bear | 1 |\n",
       "| Bear | 1 |\n",
       "\n",
       "\n",
       "2. \n",
       "A tibble: 3 × 2\n",
       "\n",
       "| key &lt;chr&gt; | value &lt;dbl&gt; |\n",
       "|---|---|\n",
       "| Car | 1 |\n",
       "| Car | 1 |\n",
       "| Car | 1 |\n",
       "\n",
       "\n",
       "3. \n",
       "A tibble: 2 × 2\n",
       "\n",
       "| key &lt;chr&gt; | value &lt;dbl&gt; |\n",
       "|---|---|\n",
       "| Deer | 1 |\n",
       "| Deer | 1 |\n",
       "\n",
       "\n",
       "4. \n",
       "A tibble: 2 × 2\n",
       "\n",
       "| key &lt;chr&gt; | value &lt;dbl&gt; |\n",
       "|---|---|\n",
       "| River | 1 |\n",
       "| River | 1 |\n",
       "\n",
       "\n",
       "\n",
       "\n"
      ],
      "text/plain": [
       "<list_of<\n",
       "  tbl_df<\n",
       "    key  : character\n",
       "    value: double\n",
       "  >\n",
       ">[4]>\n",
       "[[1]]\n",
       "\u001b[90m# A tibble: 2 x 2\u001b[39m\n",
       "  key   value\n",
       "  \u001b[3m\u001b[90m<chr>\u001b[39m\u001b[23m \u001b[3m\u001b[90m<dbl>\u001b[39m\u001b[23m\n",
       "\u001b[90m1\u001b[39m Bear      1\n",
       "\u001b[90m2\u001b[39m Bear      1\n",
       "\n",
       "[[2]]\n",
       "\u001b[90m# A tibble: 3 x 2\u001b[39m\n",
       "  key   value\n",
       "  \u001b[3m\u001b[90m<chr>\u001b[39m\u001b[23m \u001b[3m\u001b[90m<dbl>\u001b[39m\u001b[23m\n",
       "\u001b[90m1\u001b[39m Car       1\n",
       "\u001b[90m2\u001b[39m Car       1\n",
       "\u001b[90m3\u001b[39m Car       1\n",
       "\n",
       "[[3]]\n",
       "\u001b[90m# A tibble: 2 x 2\u001b[39m\n",
       "  key   value\n",
       "  \u001b[3m\u001b[90m<chr>\u001b[39m\u001b[23m \u001b[3m\u001b[90m<dbl>\u001b[39m\u001b[23m\n",
       "\u001b[90m1\u001b[39m Deer      1\n",
       "\u001b[90m2\u001b[39m Deer      1\n",
       "\n",
       "[[4]]\n",
       "\u001b[90m# A tibble: 2 x 2\u001b[39m\n",
       "  key   value\n",
       "  \u001b[3m\u001b[90m<chr>\u001b[39m\u001b[23m \u001b[3m\u001b[90m<dbl>\u001b[39m\u001b[23m\n",
       "\u001b[90m1\u001b[39m River     1\n",
       "\u001b[90m2\u001b[39m River     1\n"
      ]
     },
     "metadata": {},
     "output_type": "display_data"
    }
   ],
   "source": [
    "Input %>%\n",
    "    str_split(\"\\n\",simplify=FALSE) %>% unlist %>%\n",
    "    map(count_words) %>% \n",
    "    map_df(rbind) %>% group_split(key)"
   ]
  },
  {
   "cell_type": "markdown",
   "id": "70be8eb0",
   "metadata": {
    "papermill": {
     "duration": 0.016778,
     "end_time": "2022-06-08T05:45:16.668585",
     "exception": false,
     "start_time": "2022-06-08T05:45:16.651807",
     "status": "completed"
    },
    "tags": []
   },
   "source": [
    "**5. Merge and sort**"
   ]
  },
  {
   "cell_type": "code",
   "execution_count": 8,
   "id": "e5771a60",
   "metadata": {
    "execution": {
     "iopub.execute_input": "2022-06-08T05:45:16.708279Z",
     "iopub.status.busy": "2022-06-08T05:45:16.707007Z",
     "iopub.status.idle": "2022-06-08T05:45:16.757673Z",
     "shell.execute_reply": "2022-06-08T05:45:16.756406Z"
    },
    "papermill": {
     "duration": 0.072478,
     "end_time": "2022-06-08T05:45:16.757816",
     "exception": false,
     "start_time": "2022-06-08T05:45:16.685338",
     "status": "completed"
    },
    "tags": []
   },
   "outputs": [
    {
     "data": {
      "text/html": [
       "<table class=\"dataframe\">\n",
       "<caption>A data.frame: 4 × 2</caption>\n",
       "<thead>\n",
       "\t<tr><th scope=col>key</th><th scope=col>count</th></tr>\n",
       "\t<tr><th scope=col>&lt;chr&gt;</th><th scope=col>&lt;dbl&gt;</th></tr>\n",
       "</thead>\n",
       "<tbody>\n",
       "\t<tr><td>Car  </td><td>3</td></tr>\n",
       "\t<tr><td>Bear </td><td>2</td></tr>\n",
       "\t<tr><td>Deer </td><td>2</td></tr>\n",
       "\t<tr><td>River</td><td>2</td></tr>\n",
       "</tbody>\n",
       "</table>\n"
      ],
      "text/latex": [
       "A data.frame: 4 × 2\n",
       "\\begin{tabular}{ll}\n",
       " key & count\\\\\n",
       " <chr> & <dbl>\\\\\n",
       "\\hline\n",
       "\t Car   & 3\\\\\n",
       "\t Bear  & 2\\\\\n",
       "\t Deer  & 2\\\\\n",
       "\t River & 2\\\\\n",
       "\\end{tabular}\n"
      ],
      "text/markdown": [
       "\n",
       "A data.frame: 4 × 2\n",
       "\n",
       "| key &lt;chr&gt; | count &lt;dbl&gt; |\n",
       "|---|---|\n",
       "| Car   | 3 |\n",
       "| Bear  | 2 |\n",
       "| Deer  | 2 |\n",
       "| River | 2 |\n",
       "\n"
      ],
      "text/plain": [
       "  key   count\n",
       "1 Car   3    \n",
       "2 Bear  2    \n",
       "3 Deer  2    \n",
       "4 River 2    "
      ]
     },
     "metadata": {},
     "output_type": "display_data"
    }
   ],
   "source": [
    "Input %>%\n",
    "    str_split(\"\\n\",simplify=FALSE) %>% unlist %>%\n",
    "    map(count_words) %>% \n",
    "    map_df(rbind) %>% group_split(key) %>%\n",
    "    map(reduce_count) %>%\n",
    "    map_df(cbind) %>% arrange(desc(count))"
   ]
  },
  {
   "cell_type": "markdown",
   "id": "bd4d0d3f",
   "metadata": {
    "papermill": {
     "duration": 0.018046,
     "end_time": "2022-06-08T05:45:16.793903",
     "exception": false,
     "start_time": "2022-06-08T05:45:16.775857",
     "status": "completed"
    },
    "tags": []
   },
   "source": [
    "__Doing it the (undistributed) tidyverse way__"
   ]
  },
  {
   "cell_type": "code",
   "execution_count": 9,
   "id": "3ca2f86c",
   "metadata": {
    "execution": {
     "iopub.execute_input": "2022-06-08T05:45:16.836442Z",
     "iopub.status.busy": "2022-06-08T05:45:16.835663Z",
     "iopub.status.idle": "2022-06-08T05:45:16.877785Z",
     "shell.execute_reply": "2022-06-08T05:45:16.876526Z"
    },
    "papermill": {
     "duration": 0.064988,
     "end_time": "2022-06-08T05:45:16.877924",
     "exception": false,
     "start_time": "2022-06-08T05:45:16.812936",
     "status": "completed"
    },
    "tags": []
   },
   "outputs": [
    {
     "data": {
      "text/html": [
       "<table class=\"dataframe\">\n",
       "<caption>A tibble: 4 × 2</caption>\n",
       "<thead>\n",
       "\t<tr><th scope=col>key</th><th scope=col>count</th></tr>\n",
       "\t<tr><th scope=col>&lt;chr&gt;</th><th scope=col>&lt;int&gt;</th></tr>\n",
       "</thead>\n",
       "<tbody>\n",
       "\t<tr><td>Car  </td><td>3</td></tr>\n",
       "\t<tr><td>Bear </td><td>2</td></tr>\n",
       "\t<tr><td>Deer </td><td>2</td></tr>\n",
       "\t<tr><td>River</td><td>2</td></tr>\n",
       "</tbody>\n",
       "</table>\n"
      ],
      "text/latex": [
       "A tibble: 4 × 2\n",
       "\\begin{tabular}{ll}\n",
       " key & count\\\\\n",
       " <chr> & <int>\\\\\n",
       "\\hline\n",
       "\t Car   & 3\\\\\n",
       "\t Bear  & 2\\\\\n",
       "\t Deer  & 2\\\\\n",
       "\t River & 2\\\\\n",
       "\\end{tabular}\n"
      ],
      "text/markdown": [
       "\n",
       "A tibble: 4 × 2\n",
       "\n",
       "| key &lt;chr&gt; | count &lt;int&gt; |\n",
       "|---|---|\n",
       "| Car   | 3 |\n",
       "| Bear  | 2 |\n",
       "| Deer  | 2 |\n",
       "| River | 2 |\n",
       "\n"
      ],
      "text/plain": [
       "  key   count\n",
       "1 Car   3    \n",
       "2 Bear  2    \n",
       "3 Deer  2    \n",
       "4 River 2    "
      ]
     },
     "metadata": {},
     "output_type": "display_data"
    }
   ],
   "source": [
    "Input %>%\n",
    "    str_replace_all(\"\\n\", \" \") %>%\n",
    "    str_split(\" \",simplify=FALSE) %>% unlist %>% \n",
    "    tibble(key=.) %>%\n",
    "    group_by(key) %>%\n",
    "    summarize(count=n()) %>%  arrange(desc(count))"
   ]
  },
  {
   "cell_type": "markdown",
   "id": "bae28619",
   "metadata": {
    "papermill": {
     "duration": 0.018484,
     "end_time": "2022-06-08T05:45:16.914276",
     "exception": false,
     "start_time": "2022-06-08T05:45:16.895792",
     "status": "completed"
    },
    "tags": []
   },
   "source": [
    "***\n",
    "## 2. Stream Processing<a id=\"stream\"></a>\n",
    "\n",
    "_Credits_\n",
    "\n",
    "- Jure Leskovec, Stanford University, http://web.stanford.edu/class/cs246/slides/15-streams1.pdf\n",
    "- Michael Freedman, Princeton University, https://www.cs.princeton.edu/courses/archive/fall16/cos418/docs/L22-stream-processing.pdf\n",
    "\n",
    "**Data Streams**\n",
    "\n",
    "- In many data mining situations, we do not know the entire data set in advance\n",
    "- We can think of the data as infinite and non-stationary (the distribution changes over time)\n",
    "- Stream Management is important when the input rate is controlled externally:\n",
    "    - Google queries\n",
    "    - Twitter or Facebook status updates\n",
    "\n",
    "__The Stream Model__\n",
    "\n",
    "- Input elements enter at a rapid rate, at one or more input ports (i.e., streams)\n",
    "    - We call elements of the stream tuples\n",
    "- The system cannot store the entire stream accessibly\n",
    "\n",
    "How do you make critical calculations about the stream using a limited amount of (secondary) memory?\n",
    "\n",
    "### 2.1. Basic Stream Operators<a id=\"basic_stream\"></a>\n",
    "\n",
    "__Stateless conversion__\n",
    "\n",
    "<img src=\"http://raw.githubusercontent.com/wi3jmu/AIS2020/master/notebooks/figures/05/sc_ctoF.png\" width=\"30%\">\n",
    "\n",
    "- Convert Celsius temperature to Fahrenheit: __emit__ (input * 9 / 5) + 3\n",
    "\n",
    "__Stateless filtering__\n",
    "\n",
    "<img src=\"http://raw.githubusercontent.com/wi3jmu/AIS2020/master/notebooks/figures/05/sc_sf.png\" width=\"30%\">\n",
    "\n",
    "Function can filter inputs: –if(input>threshold) {__emit__ input}\n",
    "\n",
    "__Stateful conversion__\n",
    "\n",
    "<img src=\"http://raw.githubusercontent.com/wi3jmu/AIS2020/master/notebooks/figures/05/sc_ewa.png\" width=\"30%\">\n",
    "\n",
    "Compute EWMA of Fahrenheit temperature:\n",
    "- new_temp = ⍺ * ( CtoF(input) ) + (1- ⍺) * last_temp\n",
    "- last_temp = new_temp – emit new_temp\n",
    "- emit new_temp\n",
    "\n",
    "__Aggregation (stateful)__\n",
    "\n",
    "<img src=\"http://raw.githubusercontent.com/wi3jmu/AIS2020/master/notebooks/figures/05/sc_agg.png\" width=\"30%\">\n",
    "\n",
    "E.g., average value per window\n",
    "- Window can be # elements (10) or time (1s)\n",
    "- Windows can be disjoint (every 5s)\n",
    "- Windows can be “tumbling” (5s window every 1s)\n",
    "\n",
    "__Stream processing as chain__\n",
    "\n",
    "<img src=\"http://raw.githubusercontent.com/wi3jmu/AIS2020/master/notebooks/figures/05/sc_chain.png\" width=\"30%\">\n",
    "\n",
    "__Stream processing as directed graph__\n",
    "\n",
    "<img src=\"http://raw.githubusercontent.com/wi3jmu/AIS2020/master/notebooks/figures/05/sc_chain.png\" width=\"30%\">\n",
    "\n",
    "### 2.2. The challenge of stream processing for big data<a id=\"stream_challenge\"></a>\n",
    "\n",
    "Large amounts of data to process in realtime\n",
    "\n",
    "__Examples__:\n",
    "- Social network trends (#trending)\n",
    "- Intrusion detection systems (networks, datacenters)\n",
    "- Sensors: Detect earthquakes by correlating vibrations of millions of smartphones\n",
    "- Fraud detection\n",
    "    - Visa: 2000 txn / sec on average, peak ~47,000 / sec\n",
    "\n",
    "__Stateless operations: trivially parallelized__\n",
    "\n",
    "<img src=\"http://raw.githubusercontent.com/wi3jmu/AIS2020/master/notebooks/figures/05/scale_out.png\" width=\"30%\">\n",
    "\n",
    "__State complicates parallelization__\n",
    "\n",
    "\n",
    "- Need to join results across parallel computations\n",
    "\n",
    "<img src=\"http://raw.githubusercontent.com/wi3jmu/AIS2020/master/notebooks/figures/05/agg_par.png\" width=\"30%\">\n",
    "\n",
    "\n",
    "__Parallelization complicates fault-tolerance__\n",
    "\n",
    "\n",
    "<img src=\"http://raw.githubusercontent.com/wi3jmu/AIS2020/master/notebooks/figures/05/fault.png\" width=\"30%\">\n",
    "\n",
    "\n",
    "__We can parallelize joins__\n",
    "\n",
    "- using partitioned hash joins\n",
    "- but agian, complicates fault-tolerance\n",
    "\n",
    "<img src=\"http://raw.githubusercontent.com/wi3jmu/AIS2020/master/notebooks/figures/05/par_joins.png\" width=\"30%\">\n",
    "\n",
    "\n",
    "\n",
    "### Stream Processing frameworks\n",
    "\n",
    "Different frameworks handle these challenges differently\n",
    "\n",
    "- Record acknowledgement (Storm)\n",
    "- Micro-batches (Spark Streaming, Storm Trident) \n",
    "- Transactional updates (GoogleClouddataflow) \n",
    "- Distributed snapshots (Flink)"
   ]
  },
  {
   "cell_type": "markdown",
   "id": "85ed8f56",
   "metadata": {
    "id": "CyMGc0yhMIYu",
    "papermill": {
     "duration": 0.017869,
     "end_time": "2022-06-08T05:45:16.950333",
     "exception": false,
     "start_time": "2022-06-08T05:45:16.932464",
     "status": "completed"
    },
    "tags": [],
    "toc-hr-collapsed": true,
    "toc-nb-collapsed": true
   },
   "source": [
    "***\n",
    "## 3. Exercises<a id=\"exercises\"></a>\n",
    "\n",
    "### 3.1. MapReduce - Sales analysis<a id=\"sales\"></a>\n",
    "\n",
    "You need to run a company-wide sales analysis. Your company uses a MapReduce system to handle the massive transaction data.\n",
    "\n",
    "We will have a look at the data first:\n"
   ]
  },
  {
   "cell_type": "code",
   "execution_count": 10,
   "id": "f5f7656a",
   "metadata": {
    "execution": {
     "iopub.execute_input": "2022-06-08T05:45:16.991759Z",
     "iopub.status.busy": "2022-06-08T05:45:16.990295Z",
     "iopub.status.idle": "2022-06-08T05:45:17.580725Z",
     "shell.execute_reply": "2022-06-08T05:45:17.579573Z"
    },
    "id": "CGdJL5qLMIYu",
    "outputId": "f04d51b5-bc9c-4a21-ca7b-f2de45578135",
    "papermill": {
     "duration": 0.612785,
     "end_time": "2022-06-08T05:45:17.580975",
     "exception": false,
     "start_time": "2022-06-08T05:45:16.968190",
     "status": "completed"
    },
    "tags": []
   },
   "outputs": [
    {
     "name": "stderr",
     "output_type": "stream",
     "text": [
      "\n",
      "\u001b[36m──\u001b[39m \u001b[1m\u001b[1mColumn specification\u001b[1m\u001b[22m \u001b[36m────────────────────────────────────────────────────────\u001b[39m\n",
      "cols(\n",
      "  date = \u001b[34mcol_date(format = \"\")\u001b[39m,\n",
      "  customerID = \u001b[32mcol_double()\u001b[39m,\n",
      "  productID = \u001b[32mcol_double()\u001b[39m,\n",
      "  payment = \u001b[31mcol_character()\u001b[39m,\n",
      "  amount = \u001b[32mcol_double()\u001b[39m,\n",
      "  price = \u001b[32mcol_double()\u001b[39m,\n",
      "  cost = \u001b[32mcol_double()\u001b[39m,\n",
      "  category = \u001b[31mcol_character()\u001b[39m\n",
      ")\n",
      "\n",
      "\n"
     ]
    },
    {
     "data": {
      "text/html": [
       "<table class=\"dataframe\">\n",
       "<caption>A tibble: 10 × 8</caption>\n",
       "<thead>\n",
       "\t<tr><th scope=col>date</th><th scope=col>customerID</th><th scope=col>productID</th><th scope=col>payment</th><th scope=col>amount</th><th scope=col>price</th><th scope=col>cost</th><th scope=col>category</th></tr>\n",
       "\t<tr><th scope=col>&lt;date&gt;</th><th scope=col>&lt;dbl&gt;</th><th scope=col>&lt;dbl&gt;</th><th scope=col>&lt;chr&gt;</th><th scope=col>&lt;dbl&gt;</th><th scope=col>&lt;dbl&gt;</th><th scope=col>&lt;dbl&gt;</th><th scope=col>&lt;chr&gt;</th></tr>\n",
       "</thead>\n",
       "<tbody>\n",
       "\t<tr><td>2017-01-16</td><td>64292</td><td> 8403</td><td>paypal     </td><td>3</td><td>560.74</td><td>234.89</td><td>emergency</td></tr>\n",
       "\t<tr><td>2017-08-16</td><td>41174</td><td> 7234</td><td>paypal     </td><td>3</td><td>351.14</td><td>171.11</td><td>specialty</td></tr>\n",
       "\t<tr><td>2017-10-26</td><td>49737</td><td>32738</td><td>paypal     </td><td>3</td><td>343.38</td><td>105.14</td><td>emergency</td></tr>\n",
       "\t<tr><td>2017-11-24</td><td>24021</td><td>70159</td><td>cash       </td><td>2</td><td>905.96</td><td>345.40</td><td>emergency</td></tr>\n",
       "\t<tr><td>2017-02-13</td><td>78762</td><td> 2002</td><td>cash       </td><td>2</td><td>799.99</td><td>407.30</td><td>emergency</td></tr>\n",
       "\t<tr><td>2017-07-18</td><td>79148</td><td>86205</td><td>credit card</td><td>1</td><td>284.07</td><td>132.35</td><td>emergency</td></tr>\n",
       "\t<tr><td>2017-08-23</td><td>79148</td><td>40784</td><td>cash       </td><td>3</td><td>125.79</td><td> 47.53</td><td>specialty</td></tr>\n",
       "\t<tr><td>2017-11-06</td><td>23090</td><td>16224</td><td>paypal     </td><td>3</td><td> 85.77</td><td> 36.61</td><td>specialty</td></tr>\n",
       "\t<tr><td>2017-09-28</td><td>12307</td><td>82560</td><td>credit card</td><td>2</td><td>658.88</td><td>330.44</td><td>emergency</td></tr>\n",
       "\t<tr><td>2017-04-19</td><td>45757</td><td>27578</td><td>credit card</td><td>1</td><td>458.31</td><td>269.80</td><td>emergency</td></tr>\n",
       "</tbody>\n",
       "</table>\n"
      ],
      "text/latex": [
       "A tibble: 10 × 8\n",
       "\\begin{tabular}{llllllll}\n",
       " date & customerID & productID & payment & amount & price & cost & category\\\\\n",
       " <date> & <dbl> & <dbl> & <chr> & <dbl> & <dbl> & <dbl> & <chr>\\\\\n",
       "\\hline\n",
       "\t 2017-01-16 & 64292 &  8403 & paypal      & 3 & 560.74 & 234.89 & emergency\\\\\n",
       "\t 2017-08-16 & 41174 &  7234 & paypal      & 3 & 351.14 & 171.11 & specialty\\\\\n",
       "\t 2017-10-26 & 49737 & 32738 & paypal      & 3 & 343.38 & 105.14 & emergency\\\\\n",
       "\t 2017-11-24 & 24021 & 70159 & cash        & 2 & 905.96 & 345.40 & emergency\\\\\n",
       "\t 2017-02-13 & 78762 &  2002 & cash        & 2 & 799.99 & 407.30 & emergency\\\\\n",
       "\t 2017-07-18 & 79148 & 86205 & credit card & 1 & 284.07 & 132.35 & emergency\\\\\n",
       "\t 2017-08-23 & 79148 & 40784 & cash        & 3 & 125.79 &  47.53 & specialty\\\\\n",
       "\t 2017-11-06 & 23090 & 16224 & paypal      & 3 &  85.77 &  36.61 & specialty\\\\\n",
       "\t 2017-09-28 & 12307 & 82560 & credit card & 2 & 658.88 & 330.44 & emergency\\\\\n",
       "\t 2017-04-19 & 45757 & 27578 & credit card & 1 & 458.31 & 269.80 & emergency\\\\\n",
       "\\end{tabular}\n"
      ],
      "text/markdown": [
       "\n",
       "A tibble: 10 × 8\n",
       "\n",
       "| date &lt;date&gt; | customerID &lt;dbl&gt; | productID &lt;dbl&gt; | payment &lt;chr&gt; | amount &lt;dbl&gt; | price &lt;dbl&gt; | cost &lt;dbl&gt; | category &lt;chr&gt; |\n",
       "|---|---|---|---|---|---|---|---|\n",
       "| 2017-01-16 | 64292 |  8403 | paypal      | 3 | 560.74 | 234.89 | emergency |\n",
       "| 2017-08-16 | 41174 |  7234 | paypal      | 3 | 351.14 | 171.11 | specialty |\n",
       "| 2017-10-26 | 49737 | 32738 | paypal      | 3 | 343.38 | 105.14 | emergency |\n",
       "| 2017-11-24 | 24021 | 70159 | cash        | 2 | 905.96 | 345.40 | emergency |\n",
       "| 2017-02-13 | 78762 |  2002 | cash        | 2 | 799.99 | 407.30 | emergency |\n",
       "| 2017-07-18 | 79148 | 86205 | credit card | 1 | 284.07 | 132.35 | emergency |\n",
       "| 2017-08-23 | 79148 | 40784 | cash        | 3 | 125.79 |  47.53 | specialty |\n",
       "| 2017-11-06 | 23090 | 16224 | paypal      | 3 |  85.77 |  36.61 | specialty |\n",
       "| 2017-09-28 | 12307 | 82560 | credit card | 2 | 658.88 | 330.44 | emergency |\n",
       "| 2017-04-19 | 45757 | 27578 | credit card | 1 | 458.31 | 269.80 | emergency |\n",
       "\n"
      ],
      "text/plain": [
       "   date       customerID productID payment     amount price  cost   category \n",
       "1  2017-01-16 64292       8403     paypal      3      560.74 234.89 emergency\n",
       "2  2017-08-16 41174       7234     paypal      3      351.14 171.11 specialty\n",
       "3  2017-10-26 49737      32738     paypal      3      343.38 105.14 emergency\n",
       "4  2017-11-24 24021      70159     cash        2      905.96 345.40 emergency\n",
       "5  2017-02-13 78762       2002     cash        2      799.99 407.30 emergency\n",
       "6  2017-07-18 79148      86205     credit card 1      284.07 132.35 emergency\n",
       "7  2017-08-23 79148      40784     cash        3      125.79  47.53 specialty\n",
       "8  2017-11-06 23090      16224     paypal      3       85.77  36.61 specialty\n",
       "9  2017-09-28 12307      82560     credit card 2      658.88 330.44 emergency\n",
       "10 2017-04-19 45757      27578     credit card 1      458.31 269.80 emergency"
      ]
     },
     "metadata": {},
     "output_type": "display_data"
    }
   ],
   "source": [
    "library(tidyverse)\n",
    "sales <- read_csv('https://raw.githubusercontent.com/wi3jmu/AIS2020/master/notebooks/data/sales.csv')\n",
    "sales %>% head(10)"
   ]
  },
  {
   "cell_type": "markdown",
   "id": "201c0e51",
   "metadata": {
    "id": "RYAyavuBR0eD",
    "papermill": {
     "duration": 0.019328,
     "end_time": "2022-06-08T05:45:17.619998",
     "exception": false,
     "start_time": "2022-06-08T05:45:17.600670",
     "status": "completed"
    },
    "tags": []
   },
   "source": [
    "Define the corresponding Map and Reduce functions:\n",
    "\n",
    "__Map__: Calculates the total profit for each product id within each subset"
   ]
  },
  {
   "cell_type": "code",
   "execution_count": 11,
   "id": "7da28165",
   "metadata": {
    "execution": {
     "iopub.execute_input": "2022-06-08T05:45:17.663547Z",
     "iopub.status.busy": "2022-06-08T05:45:17.662191Z",
     "iopub.status.idle": "2022-06-08T05:45:17.674149Z",
     "shell.execute_reply": "2022-06-08T05:45:17.672963Z"
    },
    "id": "zsij7tfpMIYx",
    "papermill": {
     "duration": 0.035281,
     "end_time": "2022-06-08T05:45:17.674321",
     "exception": false,
     "start_time": "2022-06-08T05:45:17.639040",
     "status": "completed"
    },
    "tags": []
   },
   "outputs": [],
   "source": [
    "calculate_profit <- function(df){\n",
    "    # Write your code here \n",
    "    # df  %>% \n",
    "}"
   ]
  },
  {
   "cell_type": "markdown",
   "id": "d20950c7",
   "metadata": {
    "id": "AcsQgrX8R3Eu",
    "papermill": {
     "duration": 0.01889,
     "end_time": "2022-06-08T05:45:17.712693",
     "exception": false,
     "start_time": "2022-06-08T05:45:17.693803",
     "status": "completed"
    },
    "tags": []
   },
   "source": [
    "__Reduce__: Adds up the profit for each different product id"
   ]
  },
  {
   "cell_type": "code",
   "execution_count": 12,
   "id": "706d54bf",
   "metadata": {
    "execution": {
     "iopub.execute_input": "2022-06-08T05:45:17.755611Z",
     "iopub.status.busy": "2022-06-08T05:45:17.754080Z",
     "iopub.status.idle": "2022-06-08T05:45:17.766621Z",
     "shell.execute_reply": "2022-06-08T05:45:17.765396Z"
    },
    "id": "ZFK1KaR9MIYy",
    "papermill": {
     "duration": 0.035367,
     "end_time": "2022-06-08T05:45:17.766764",
     "exception": false,
     "start_time": "2022-06-08T05:45:17.731397",
     "status": "completed"
    },
    "tags": []
   },
   "outputs": [],
   "source": [
    "reduce_profit <- function(df){\n",
    "    # Write your code here \n",
    "    # df  %>% \n",
    "}"
   ]
  },
  {
   "cell_type": "code",
   "execution_count": 13,
   "id": "2cff4636",
   "metadata": {
    "execution": {
     "iopub.execute_input": "2022-06-08T05:45:17.809565Z",
     "iopub.status.busy": "2022-06-08T05:45:17.808233Z",
     "iopub.status.idle": "2022-06-08T05:45:17.819881Z",
     "shell.execute_reply": "2022-06-08T05:45:17.818797Z"
    },
    "id": "fPRJpeluMIY0",
    "outputId": "0daa7364-c3cf-40c7-cbcf-8797a7157312",
    "papermill": {
     "duration": 0.034408,
     "end_time": "2022-06-08T05:45:17.820062",
     "exception": false,
     "start_time": "2022-06-08T05:45:17.785654",
     "status": "completed"
    },
    "tags": []
   },
   "outputs": [],
   "source": [
    "# uncomment\n",
    "#sales %>% #Input\n",
    "#    split(sample(rep(1:5, 1000))) %>% #Splitting\n",
    "#    map(calculate_profit) %>% #Mapping\n",
    "#    map_df(rbind) %>% group_split(productID)%>% #Shuffling\n",
    "#    map(reduce_profit) %>% #Reduce\n",
    "#    map_df(cbind) %>% arrange(desc(total_profit)) %>%  #Merge and Sort\n",
    "#    head(10) #Display only top 10"
   ]
  },
  {
   "cell_type": "markdown",
   "id": "571f5fe3",
   "metadata": {
    "id": "5MQz_q7mMIY1",
    "papermill": {
     "duration": 0.018798,
     "end_time": "2022-06-08T05:45:17.858173",
     "exception": false,
     "start_time": "2022-06-08T05:45:17.839375",
     "status": "completed"
    },
    "tags": []
   },
   "source": [
    "## 3.2. Exam Questions<a id=\"exam\"></a>\n",
    "\n",
    "***From exam WS 2020/21 Question 3: Big Data and ML Applications***\n",
    "\n",
    "(a) __Stream processing__:  \n",
    "\n",
    "i. (3 Points) Name and briefly explain three main traits that differentiate streaming\n",
    "data from traditional data models (e.g., databases)."
   ]
  },
  {
   "cell_type": "code",
   "execution_count": 14,
   "id": "d27ba38a",
   "metadata": {
    "execution": {
     "iopub.execute_input": "2022-06-08T05:45:17.900958Z",
     "iopub.status.busy": "2022-06-08T05:45:17.899471Z",
     "iopub.status.idle": "2022-06-08T05:45:17.910190Z",
     "shell.execute_reply": "2022-06-08T05:45:17.908956Z"
    },
    "papermill": {
     "duration": 0.03323,
     "end_time": "2022-06-08T05:45:17.910344",
     "exception": false,
     "start_time": "2022-06-08T05:45:17.877114",
     "status": "completed"
    },
    "tags": []
   },
   "outputs": [],
   "source": [
    "# Write your answer here"
   ]
  },
  {
   "cell_type": "markdown",
   "id": "51490083",
   "metadata": {
    "papermill": {
     "duration": 0.019633,
     "end_time": "2022-06-08T05:45:17.949101",
     "exception": false,
     "start_time": "2022-06-08T05:45:17.929468",
     "status": "completed"
    },
    "tags": []
   },
   "source": [
    "ii. (1 point) What kind of operations are easy to implement for big data streaming?"
   ]
  },
  {
   "cell_type": "code",
   "execution_count": 15,
   "id": "27cdba97",
   "metadata": {
    "execution": {
     "iopub.execute_input": "2022-06-08T05:45:17.992000Z",
     "iopub.status.busy": "2022-06-08T05:45:17.990588Z",
     "iopub.status.idle": "2022-06-08T05:45:18.001089Z",
     "shell.execute_reply": "2022-06-08T05:45:17.999895Z"
    },
    "papermill": {
     "duration": 0.033394,
     "end_time": "2022-06-08T05:45:18.001308",
     "exception": false,
     "start_time": "2022-06-08T05:45:17.967914",
     "status": "completed"
    },
    "tags": []
   },
   "outputs": [],
   "source": [
    "# Write your answer here"
   ]
  }
 ],
 "metadata": {
  "kernelspec": {
   "display_name": "R",
   "language": "R",
   "name": "ir"
  },
  "language_info": {
   "codemirror_mode": "r",
   "file_extension": ".r",
   "mimetype": "text/x-r-source",
   "name": "R",
   "pygments_lexer": "r",
   "version": "3.6.3"
  },
  "papermill": {
   "default_parameters": {},
   "duration": 8.781557,
   "end_time": "2022-06-08T05:45:20.110975",
   "environment_variables": {},
   "exception": null,
   "input_path": "__notebook__.ipynb",
   "output_path": "__notebook__.ipynb",
   "parameters": {},
   "start_time": "2022-06-08T05:45:11.329418",
   "version": "2.3.3"
  }
 },
 "nbformat": 4,
 "nbformat_minor": 5
}
